{
  "nbformat": 4,
  "nbformat_minor": 0,
  "metadata": {
    "colab": {
      "name": "weather detection.ipynb",
      "provenance": []
    },
    "kernelspec": {
      "name": "python3",
      "display_name": "Python 3"
    },
    "language_info": {
      "name": "python"
    }
  },
  "cells": [
    {
      "cell_type": "code",
      "metadata": {
        "colab": {
          "base_uri": "https://localhost:8080/"
        },
        "id": "Ziu4EF02JwHl",
        "outputId": "5c197f90-9ac6-41a5-8c43-6c20cbed8516"
      },
      "source": [
        "pip install bs4"
      ],
      "execution_count": 1,
      "outputs": [
        {
          "output_type": "stream",
          "text": [
            "Requirement already satisfied: bs4 in /usr/local/lib/python3.7/dist-packages (0.0.1)\n",
            "Requirement already satisfied: beautifulsoup4 in /usr/local/lib/python3.7/dist-packages (from bs4) (4.6.3)\n"
          ],
          "name": "stdout"
        }
      ]
    },
    {
      "cell_type": "code",
      "metadata": {
        "colab": {
          "base_uri": "https://localhost:8080/"
        },
        "id": "W5OU8oLiLtzz",
        "outputId": "7af9c654-3a9d-4f08-91da-caae93b68acc"
      },
      "source": [
        "from bs4 import BeautifulSoup\n",
        "import requests\n",
        "headers = {'User-Agent': 'Mozilla/5.0 (Windows NT 10.0; Win64; x64) AppleWebKit/537.36 (KHTML, like Gecko) Chrome/58.0.3029.110 Safari/537.3'}\n",
        "\n",
        "def weather(city):\n",
        "    city=city.replace(\" \",\"+\")\n",
        "    res = requests.get(f'https://www.google.com/search?q={city}&oq={city}&aqs=chrome.0.35i39l2j0l4j46j69i60.6128j1j7&sourceid=chrome&ie=UTF-8',headers=headers)\n",
        "    print(\"Searching......\\n\")\n",
        "    soup = BeautifulSoup(res.text,'html.parser')   \n",
        "    location = soup.select('#wob_loc')[0].getText().strip()  \n",
        "    time = soup.select('#wob_dts')[0].getText().strip()       \n",
        "    info = soup.select('#wob_dc')[0].getText().strip() \n",
        "    weather = soup.select('#wob_tm')[0].getText().strip()\n",
        "    print(location)\n",
        "    print(time)\n",
        "    print(info)\n",
        "    print(weather+\"°C\") \n",
        "\n",
        "city=input(\"Enter the Name of Any City >>  \")\n",
        "city=city+\" weather\"\n",
        "weather(city)"
      ],
      "execution_count": 2,
      "outputs": [
        {
          "output_type": "stream",
          "text": [
            "Enter the Name of Any City >>  vizag\n",
            "Searching......\n",
            "\n",
            "Visakhapatnam, Andhra Pradesh, India\n",
            "Monday 10:00 PM\n",
            "Partly cloudy\n",
            "86°C\n"
          ],
          "name": "stdout"
        }
      ]
    }
  ]
}